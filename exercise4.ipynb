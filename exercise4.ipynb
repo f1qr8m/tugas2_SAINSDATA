{
 "cells": [
  {
   "cell_type": "markdown",
   "id": "ac924406",
   "metadata": {},
   "source": [
    "# Week 2 Notebook 4 Data Wrangling with Pandas\n",
    "\n",
    "Now we want to do some data wrangling with the `Pandas` library using the same penguins data set.\n",
    "\n",
    "Data wrangling involves cleaning up our data which may not have been recorded correctly, or missing. First we will have to check to see how many \"messy\" data we have.\n",
    "\n",
    "In this notebook we are going to perform the following basic data wrangling tasks;\n",
    "\n",
    "- Exploring data\n",
    "    - check for missing data\n",
    "    - check for duplicates\n",
    "- Cleaning data\n",
    "    - remove missing data\n",
    "    - replace missing data with new values\n",
    "    - replace incorrect data\n",
    "    - remove duplicate data\n",
    "\n",
    "First let's read the data into a data frame using `Pandas`."
   ]
  },
  {
   "cell_type": "markdown",
   "id": "7418302b",
   "metadata": {},
   "source": [
    "## Exercises"
   ]
  },
  {
   "cell_type": "markdown",
   "id": "d50f0b43",
   "metadata": {},
   "source": [
    "Let's try out these data wrangling operations with the Iris dataset.\n",
    "\n",
    "You should have downloaded the iris_csv.csv dataset into your working directory from the previous exercise. "
   ]
  },
  {
   "cell_type": "code",
   "execution_count": 2,
   "id": "8ec24985",
   "metadata": {},
   "outputs": [],
   "source": [
    "# We should always start with the import, although it may have been run above\n",
    "import pandas as pd"
   ]
  },
  {
   "cell_type": "code",
   "execution_count": 3,
   "id": "a6b77668",
   "metadata": {},
   "outputs": [],
   "source": [
    "# read the data into a dataframe called irisdf\n",
    "irisdf = pd.read_csv('iris_csv.csv')"
   ]
  },
  {
   "cell_type": "markdown",
   "id": "bd1d1f8f",
   "metadata": {},
   "source": [
    "**Q1. Missing Values**\n",
    "\n",
    "Check if there are any missing values in the `irisdf` data set."
   ]
  },
  {
   "cell_type": "code",
   "execution_count": 4,
   "id": "d80fb5ed",
   "metadata": {},
   "outputs": [
    {
     "name": "stdout",
     "output_type": "stream",
     "text": [
      "sepallength    0\n",
      "sepalwidth     0\n",
      "petallength    0\n",
      "petalwidth     0\n",
      "class          0\n",
      "dtype: int64\n"
     ]
    }
   ],
   "source": [
    "# Q1 Answer\n",
    "missing_values = irisdf.isna().sum()\n",
    "print(missing_values)"
   ]
  },
  {
   "cell_type": "markdown",
   "id": "67c27f80",
   "metadata": {},
   "source": [
    "**Q2. Find Duplicates**\n",
    "\n",
    "There are three duplicate rows, display the rows."
   ]
  },
  {
   "cell_type": "code",
   "execution_count": 5,
   "id": "8f44ec03",
   "metadata": {},
   "outputs": [
    {
     "name": "stdout",
     "output_type": "stream",
     "text": [
      "     sepallength  sepalwidth  petallength  petalwidth           class\n",
      "34           4.9         3.1          1.5         0.1     Iris-setosa\n",
      "37           4.9         3.1          1.5         0.1     Iris-setosa\n",
      "142          5.8         2.7          5.1         1.9  Iris-virginica\n"
     ]
    }
   ],
   "source": [
    "#Q2 Answer\n",
    "duplicate_rows = irisdf[irisdf.duplicated()]\n",
    "print(duplicate_rows)"
   ]
  },
  {
   "cell_type": "markdown",
   "id": "1c781735",
   "metadata": {},
   "source": [
    "**Q3. Calculate Mean**\n",
    "\n",
    "Find the mean `sepallength` and store it in a variable called `mean_sepallength`"
   ]
  },
  {
   "cell_type": "code",
   "execution_count": 6,
   "id": "1c0e6969",
   "metadata": {},
   "outputs": [
    {
     "name": "stdout",
     "output_type": "stream",
     "text": [
      "Mean Sepal Length: 5.843333333333334\n"
     ]
    }
   ],
   "source": [
    "#Q3 answer\n",
    "mean_sepallength = irisdf['sepallength'].mean()\n",
    "\n",
    "print(\"Mean Sepal Length:\", mean_sepallength)"
   ]
  },
  {
   "cell_type": "markdown",
   "id": "2b0a2189",
   "metadata": {},
   "source": [
    "**Q4. Set Value**\n",
    "\n",
    "Set the `sepallength` of the row with index 34 to the mean value found."
   ]
  },
  {
   "cell_type": "code",
   "execution_count": 7,
   "id": "79f69216",
   "metadata": {},
   "outputs": [
    {
     "name": "stdout",
     "output_type": "stream",
     "text": [
      "sepallength       5.843333\n",
      "sepalwidth             3.1\n",
      "petallength            1.5\n",
      "petalwidth             0.1\n",
      "class          Iris-setosa\n",
      "Name: 34, dtype: object\n"
     ]
    }
   ],
   "source": [
    "# Q4 Answer\n",
    "\n",
    "irisdf.at[34, 'sepallength'] = mean_sepallength\n",
    "\n",
    "print(irisdf.loc[34])"
   ]
  },
  {
   "cell_type": "markdown",
   "id": "de6ccd50",
   "metadata": {},
   "source": [
    "Check whether the number of duplicate rows has decreased by displaying the duplicated rows again. You can execute your answer to Q2 again) "
   ]
  },
  {
   "cell_type": "markdown",
   "id": "ce55efd1",
   "metadata": {},
   "source": [
    "**Q5. Drop Duplicates**\n",
    "\n",
    "Drop the rows with duplicates"
   ]
  },
  {
   "cell_type": "code",
   "execution_count": 8,
   "id": "49f22dd9",
   "metadata": {},
   "outputs": [
    {
     "name": "stdout",
     "output_type": "stream",
     "text": [
      "     sepallength  sepalwidth  petallength  petalwidth           class\n",
      "0            5.1         3.5          1.4         0.2     Iris-setosa\n",
      "1            4.9         3.0          1.4         0.2     Iris-setosa\n",
      "2            4.7         3.2          1.3         0.2     Iris-setosa\n",
      "3            4.6         3.1          1.5         0.2     Iris-setosa\n",
      "4            5.0         3.6          1.4         0.2     Iris-setosa\n",
      "..           ...         ...          ...         ...             ...\n",
      "143          6.7         3.0          5.2         2.3  Iris-virginica\n",
      "144          6.3         2.5          5.0         1.9  Iris-virginica\n",
      "145          6.5         3.0          5.2         2.0  Iris-virginica\n",
      "146          6.2         3.4          5.4         2.3  Iris-virginica\n",
      "147          5.9         3.0          5.1         1.8  Iris-virginica\n",
      "\n",
      "[148 rows x 5 columns]\n"
     ]
    }
   ],
   "source": [
    "# Q5 answer\n",
    "irisdf = irisdf.drop_duplicates()\n",
    "\n",
    "irisdf = irisdf.reset_index(drop=True)\n",
    "\n",
    "print(irisdf)"
   ]
  },
  {
   "cell_type": "markdown",
   "id": "2bec62a9",
   "metadata": {},
   "source": [
    "Now check if there are any more duplicate values by running your answer to Q2 again."
   ]
  },
  {
   "cell_type": "markdown",
   "id": "d3b063f1",
   "metadata": {},
   "source": [
    "**Q6. Set as NA**\n",
    "\n",
    "Set the `sepalwidth` of the row with index 34 to `pd.NA` (which is pandas for NULL value)"
   ]
  },
  {
   "cell_type": "code",
   "execution_count": 9,
   "id": "a02c4be6",
   "metadata": {},
   "outputs": [],
   "source": [
    "# Q6 Answer\n",
    "irisdf.at[34, 'sepalwidth'] = pd.NA\n",
    "\n"
   ]
  },
  {
   "cell_type": "markdown",
   "id": "34a740f9",
   "metadata": {},
   "source": [
    "We should be able to view the contents of the row with index 34 using the `loc` attribute:"
   ]
  },
  {
   "cell_type": "code",
   "execution_count": 10,
   "id": "5e7f8d6e",
   "metadata": {},
   "outputs": [
    {
     "name": "stdout",
     "output_type": "stream",
     "text": [
      "sepallength       5.843333\n",
      "sepalwidth             NaN\n",
      "petallength            1.5\n",
      "petalwidth             0.1\n",
      "class          Iris-setosa\n",
      "Name: 34, dtype: object\n"
     ]
    }
   ],
   "source": [
    "print(irisdf.loc[34])"
   ]
  },
  {
   "cell_type": "markdown",
   "id": "289d4ff9",
   "metadata": {},
   "source": [
    "**Q7. Find Rows with Missing Values**\n",
    "\n",
    "Find the rows with *any* NA values"
   ]
  },
  {
   "cell_type": "code",
   "execution_count": 11,
   "id": "de296f90",
   "metadata": {},
   "outputs": [
    {
     "name": "stdout",
     "output_type": "stream",
     "text": [
      "    sepallength  sepalwidth  petallength  petalwidth        class\n",
      "34     5.843333         NaN          1.5         0.1  Iris-setosa\n"
     ]
    }
   ],
   "source": [
    "# Q7 Answer\n",
    "\n",
    "rows_with_na = irisdf[irisdf.isna().any(axis=1)]\n",
    "print(rows_with_na)\n",
    "# Find the rows with any 'na' values, by row (axis = 1 indicates to check row by row)\n",
    "\n"
   ]
  },
  {
   "cell_type": "markdown",
   "id": "6fcd7520",
   "metadata": {},
   "source": [
    "**Q8. Drop Rows with Missing Values**\n",
    "\n",
    "Now drop the rows with missing values with the argument `inplace = True`"
   ]
  },
  {
   "cell_type": "code",
   "execution_count": 15,
   "id": "45548974",
   "metadata": {},
   "outputs": [],
   "source": [
    "# Q8 answer\n",
    "irisdf.dropna(inplace=True)"
   ]
  },
  {
   "cell_type": "markdown",
   "id": "55cf88ff",
   "metadata": {},
   "source": [
    "Check whether there are any more rows with NA values by running your answer to Q7 again."
   ]
  }
 ],
 "metadata": {
  "kernelspec": {
   "display_name": "Python 3 (ipykernel)",
   "language": "python",
   "name": "python3"
  },
  "language_info": {
   "codemirror_mode": {
    "name": "ipython",
    "version": 3
   },
   "file_extension": ".py",
   "mimetype": "text/x-python",
   "name": "python",
   "nbconvert_exporter": "python",
   "pygments_lexer": "ipython3",
   "version": "3.11.5"
  }
 },
 "nbformat": 4,
 "nbformat_minor": 5
}
