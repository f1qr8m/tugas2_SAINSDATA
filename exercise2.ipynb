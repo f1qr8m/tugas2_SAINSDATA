{
 "cells": [
  {
   "cell_type": "markdown",
   "id": "292c0605",
   "metadata": {},
   "source": [
    "# Week 2 Notebook 2 Files\n",
    "\n",
    "## Overview\n",
    "\n",
    "The Python standard library contains many useful functions, including to read and write files. In this lesson we will cover:\n",
    "* how to open a file and read data from it\n",
    "* how to write text to a file"
   ]
  },
  {
   "cell_type": "markdown",
   "id": "d51d3e0a",
   "metadata": {},
   "source": [
    "## Exercise\n",
    "\n",
    "Write the code to open the 'invoices.csv' file for reading, and then print only the heading 'Invoice No' and the data for the invoice numbers.\n",
    "\n",
    "Use the following comments to guide you"
   ]
  },
  {
   "cell_type": "code",
   "execution_count": 14,
   "id": "57fbc0fb",
   "metadata": {},
   "outputs": [
    {
     "name": "stdout",
     "output_type": "stream",
     "text": [
      "<_io.TextIOWrapper name='invoices.csv' mode='r' encoding='cp1252'>\n",
      "Invoice No, Customer Name, Date, Invoice Amount\n",
      "\n",
      "I\n",
      "['13002', ' Lighthouse Entertainment', ' 13 Jan 2020', ' $45.60\\n']\n",
      " Lighthouse Entertainment\n",
      "['13003', ' Main Street News', ' 13 Jan 2020', ' $100.20\\n']\n",
      " Main Street News\n",
      "['13003', ' Lee Enterprise', ' 14 Jan 2020', ' $30.00\\n']\n",
      " Lee Enterprise\n",
      "['13004', ' Raju Store', ' 14 Jan 2020', ' $300.20\\n']\n",
      " Raju Store\n"
     ]
    }
   ],
   "source": [
    "# open the file for reading\n",
    "myfile = open('invoices.csv')\n",
    "print(myfile)\n",
    "\n",
    "# read all the lines\n",
    "\n",
    "mydataAsLines = myfile.readline()\n",
    "print(mydataAsLines)\n",
    "\n",
    "# header is the first element in the list of lines\n",
    "header = mydataAsLines[0]\n",
    "\n",
    "# use a split() function to separate the header names by the comma\n",
    "header = header.strip().split(',')\n",
    "\n",
    "# print the first element of the header names after splitting\n",
    "print(header[0])\n",
    "\n",
    "# use a for loop (with a slice starting at index 1) for the rest of the lines\n",
    "for line in myfile:\n",
    "        # split at the comma\n",
    "    parts = line.split(\",\")\n",
    "\n",
    "    print(parts)\n",
    "      # print the first element\n",
    "    print(parts[1])\n",
    "\n",
    "             \n",
    "    \n",
    "# close the file\n",
    "myfile.close()"
   ]
  }
 ],
 "metadata": {
  "kernelspec": {
   "display_name": "Python 3 (ipykernel)",
   "language": "python",
   "name": "python3"
  },
  "language_info": {
   "codemirror_mode": {
    "name": "ipython",
    "version": 3
   },
   "file_extension": ".py",
   "mimetype": "text/x-python",
   "name": "python",
   "nbconvert_exporter": "python",
   "pygments_lexer": "ipython3",
   "version": "3.11.5"
  }
 },
 "nbformat": 4,
 "nbformat_minor": 5
}
